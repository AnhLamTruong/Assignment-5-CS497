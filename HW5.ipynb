{
 "cells": [
  {
   "cell_type": "markdown",
   "metadata": {},
   "source": [
    "## Remove Invalid Parenthesis \n",
    "Given a string s that contains parentheses and letters, remove the minimum number of invalid parentheses \n",
    "to make the input string valid. Return all the possible results. You may return the answer in any order. \n"
   ]
  },
  {
   "cell_type": "code",
   "execution_count": 1,
   "metadata": {},
   "outputs": [
    {
     "name": "stdout",
     "output_type": "stream",
     "text": [
      "['(a())()', '(a)()()']\n",
      "['(())()', '()()()']\n",
      "['']\n"
     ]
    }
   ],
   "source": [
    "class Solution(object):\n",
    "    def removeInvalidParentheses(self, string):  ## method to remove invalid parenthesis\n",
    "       \n",
    "        def calculate(string):\n",
    "            leftindex = 0\n",
    "            rightindex = 0\n",
    "            for c in string:\n",
    "                if c == '(':\n",
    "                    leftindex += 1\n",
    "                elif c == ')':\n",
    "                    if leftindex == 0:\n",
    "                        rightindex += 1\n",
    "                    else:\n",
    "                        leftindex -= 1\n",
    "            return leftindex + rightindex\n",
    "        \n",
    "        def dfs(string):  ## using depth first to solve\n",
    "            n = calculate(string)\n",
    "            if n == 0:\n",
    "                return [string]\n",
    "            ans = []\n",
    "            for i in range(len(string)):\n",
    "                if string[i] in ['(', ')']:\n",
    "                    sos = string[:i] + string[i + 1:]\n",
    "                    if sos not in visited and calculate(sos) < n:\n",
    "                        visited.add(sos)\n",
    "                        ans.extend(dfs(sos))\n",
    "            return ans\n",
    "            \n",
    "        visited = set([string]) ## passing set of the string to  visited array\n",
    "        return dfs(string)\n",
    "        \n",
    "        \n",
    "object=Solution()   ## making the object of the class   \n",
    "print(object.removeInvalidParentheses(\"(a)())()\"))\n",
    "print(object.removeInvalidParentheses(\"()())()\"))\n",
    "print(object.removeInvalidParentheses(\")(\"))\n"
   ]
  },
  {
   "cell_type": "markdown",
   "metadata": {},
   "source": [
    "##  Maximum Absolute Difference in BST\n",
    "Given the root of a Binary Search Tree (BST), return the minimum absolute difference between the values of any two different nodes in the tree. "
   ]
  },
  {
   "cell_type": "code",
   "execution_count": null,
   "metadata": {},
   "outputs": [],
   "source": [
    "import sys\n",
    "# Definition for a binary tree node.\n",
    "class TreeNode:\n",
    "    def __init__(self, val=0, left=None, right=None):\n",
    "        self.val = val\n",
    "        self.left = left\n",
    "        self.right = right\n",
    "\n",
    "def getMaximumDifference(self, root: TreeNode) -> int:\n",
    "        if not root:return 0\n",
    "        arr=[]\n",
    "        def helper(node):\n",
    "            if node:\n",
    "                arr.append(node.val)\n",
    "                helper(node.left)\n",
    "                helper(node.right)\n",
    "        helper(root)\n",
    "        arr.sort()\n",
    "        ans=sys.maxsize\n",
    "        for i in range(len(arr)-1):\n",
    "            ans=max(ans,abs(arr[i]-arr[i+1]))\n",
    "        return ans\n",
    "\n",
    "root = TreeNode()\n",
    "root.val=TreeNode(4)\n",
    "root.left.val = TreeNode(2)\n",
    "root.right.val = TreeNode(6)\n",
    "root.left.left.val = TreeNode(1)\n",
    "root.left.right.val = TreeNode(3)\n",
    "\n",
    "print (getMaximumDifference(root))\n"
   ]
  },
  {
   "cell_type": "markdown",
   "metadata": {},
   "source": [
    "## Binary Tree Maximum Path Sum \n",
    "A path in a binary tree is a sequence of nodes where each pair of adjacent nodes in the sequence \n",
    "has an edge connecting them. A node can only appear in the sequence at most once. Note that \n",
    "the path does not need to pass through the root. \n",
    "\n",
    "The path sum of a path is the sum of the node's values in the path. \n",
    "\n",
    "Given the root of a binary tree, return the maximum path sum of any non-empty path. "
   ]
  },
  {
   "cell_type": "code",
   "execution_count": null,
   "metadata": {},
   "outputs": [],
   "source": [
    "# Definition for a binary tree node.\n",
    "class TreeNode:\n",
    "    def __init__(self, val=0, left=None, right=None):\n",
    "        self.data = val\n",
    "        self.left = left\n",
    "        self.right = right\n",
    "import math\n",
    "from typing import Optional\n",
    "\n",
    "\n",
    "       \n",
    "\n",
    "class Solution:\n",
    "    def maxPathSum(self, root: Optional[TreeNode]) -> int:\n",
    "       # Initialize result\n",
    "       self.maxSumOfAllPaths = float(\"-inf\")\n",
    "       if root is None:\n",
    "         return 0;\n",
    "       # Compute and return result\n",
    "       self.findMaxUtil(self,root)\n",
    "       return self.maxSumOfAllPaths\n",
    "    \n",
    "    def findMaxUtil(self,root):\n",
    "        res=0\n",
    "        # Base Case\n",
    "        if root is None: \n",
    "          return\n",
    "        # l and r store maximum path sum going through left\n",
    "        # # and right child of root respectively  \n",
    "        leftSum= max(self.findMaxUtil(self,root.left),0)\n",
    "        rightSum= max(self.findMaxUtil(self,root.right),0)\n",
    "        # Max path for parent call of root. This path\n",
    "        # must include at most one child of root\n",
    "        max_single = max(max(leftSum, rightSum) + root.data, root.data)\n",
    "        # Max top represents the sum when the node under\n",
    "        # # consideration is the root of the maxSum path and\n",
    "        # # no ancestor of root are there in max sum path\n",
    "        max_top = max(max_single, leftSum+rightSum + root.data)\n",
    "        # Static variable to store the changes\n",
    "        # # Store the maximum result\n",
    "        return max_top       \n",
    "# Driver code\n",
    "if __name__ == '__main__':\n",
    "    root = TreeNode(10)\n",
    "    root.left = TreeNode(2)\n",
    "    root.right = TreeNode(10)\n",
    "    root.left.left = TreeNode(20)\n",
    "    root.left.right = TreeNode(1)\n",
    "    root.right.right = TreeNode(-25)\n",
    "    root.right.right.left = TreeNode(3)\n",
    "    root.right.right.right = TreeNode(4)\n",
    "    \n",
    "    s=Solution()\n",
    "    print (\"Max path sum is: \"+ Solution.maxPathSum(Solution,root))"
   ]
  },
  {
   "cell_type": "markdown",
   "metadata": {},
   "source": [
    "## Lexicographical Numbers \n",
    "Given an integer n, return all the numbers in the range [1, n] sorted in lexicographical order. \n",
    "You must write an algorithm that runs in O(n) time and uses O(1) extra space.  \n"
   ]
  },
  {
   "cell_type": "code",
   "execution_count": 3,
   "metadata": {},
   "outputs": [
    {
     "name": "stdout",
     "output_type": "stream",
     "text": [
      "[1, 10, 11, 12, 13, 14, 15, 2, 3, 4, 5, 6, 7, 8, 9]\n"
     ]
    }
   ],
   "source": [
    "from typing import List \n",
    "\n",
    "class Solution:\n",
    "    def lexicalOrder(self, n: int) -> List[int]:\n",
    "        sol = []\n",
    "        self.dfs(self,1, n, sol)\n",
    "        print(\"[\", sol[0], end= \"\", sep =\"\")\n",
    "        for i in range(1,n):\n",
    "          print(\", \", sol[i], end= \"\", sep =\"\")\n",
    "        print(\"]\")\n",
    "    def dfs(self, temp, n, sol):\n",
    "      if (temp > n):\n",
    "        return\n",
    "      sol.append(temp)\n",
    "      self.dfs(self,temp * 10, n, sol)\n",
    "      if (temp % 10 != 9):\n",
    "        self.dfs(self,temp + 1, n, sol)\n",
    "        \n",
    "n=15\n",
    "Solution.lexicalOrder(Solution,n)"
   ]
  }
 ],
 "metadata": {
  "kernelspec": {
   "display_name": "Python 3.10.7 64-bit",
   "language": "python",
   "name": "python3"
  },
  "language_info": {
   "codemirror_mode": {
    "name": "ipython",
    "version": 3
   },
   "file_extension": ".py",
   "mimetype": "text/x-python",
   "name": "python",
   "nbconvert_exporter": "python",
   "pygments_lexer": "ipython3",
   "version": "3.10.7"
  },
  "orig_nbformat": 4,
  "vscode": {
   "interpreter": {
    "hash": "6bba7ad6fc9afbb17a33197c0438130850015aba75982ac77e342f4df6c21110"
   }
  }
 },
 "nbformat": 4,
 "nbformat_minor": 2
}
